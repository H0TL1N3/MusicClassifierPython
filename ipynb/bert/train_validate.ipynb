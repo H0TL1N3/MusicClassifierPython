{
 "cells": [
  {
   "metadata": {},
   "cell_type": "code",
   "source": [
    "import matplotlib.pyplot as plt\n",
    "from torch.optim.adamw import adamw\n",
    "!pip install -q -U \"tensorflow-text\"\n",
    "!pip install -q tf-models-official\n",
    "!pip install transformers datasets torch scikit-learn\n",
    "!pip install -U accelerate\n",
    "!pip install -U transformers\n",
    "!pip install -U evaluate\n",
    "!pip install -U datasets huggingface_hub fsspec\n",
    "!pip install -U scikit-learn"
   ],
   "id": "42bed9af5aad05fd",
   "outputs": [],
   "execution_count": null
  },
  {
   "metadata": {
    "ExecuteTime": {
     "end_time": "2025-06-17T13:27:05.608689Z",
     "start_time": "2025-06-17T13:27:04.306794Z"
    }
   },
   "cell_type": "code",
   "source": [
    "import torch\n",
    "\n",
    "print(torch.cuda.is_available())  # Should return True if GPU is ready"
   ],
   "id": "b94dcd7e5d027e83",
   "outputs": [
    {
     "name": "stdout",
     "output_type": "stream",
     "text": [
      "True\n"
     ]
    }
   ],
   "execution_count": 1
  },
  {
   "metadata": {},
   "cell_type": "markdown",
   "source": "# Dataset load and processing",
   "id": "e869cd9f4b8467f6"
  },
  {
   "metadata": {
    "ExecuteTime": {
     "end_time": "2025-06-17T13:27:06.696827Z",
     "start_time": "2025-06-17T13:27:05.618848Z"
    }
   },
   "cell_type": "code",
   "source": [
    "import datasets\n",
    "\n",
    "tokenized_dataset_train = datasets.load_from_disk(\"tokenized_dataset_train\").train_test_split(test_size=0.8)[\"test\"]\n",
    "tokenized_dataset_test = datasets.load_from_disk(\"tokenized_dataset_test\").train_test_split(test_size=0.8)[\"test\"]\n",
    "\n",
    "# tokenized_dataset_train = datasets.load_from_disk(\"tokenized_dataset_train\")\n",
    "# tokenized_dataset_test = datasets.load_from_disk(\"tokenized_dataset_test\")\n",
    "\n",
    "# tokenized_dataset_train = tokenized_dataset_train.remove_columns([\"tag\", \"lyrics\"])\n",
    "# tokenized_dataset_test = tokenized_dataset_test.remove_columns([\"tag\", \"lyrics\"])\n",
    "tokenized_dataset_train = tokenized_dataset_train.remove_columns([\"tag\"])\n",
    "tokenized_dataset_test = tokenized_dataset_test.remove_columns([\"tag\"])"
   ],
   "id": "a9d9c96165ac1406",
   "outputs": [
    {
     "name": "stderr",
     "output_type": "stream",
     "text": [
      "/home/vm/Documents/lu/valTeh/proj/.venv/lib/python3.11/site-packages/tqdm/auto.py:21: TqdmWarning: IProgress not found. Please update jupyter and ipywidgets. See https://ipywidgets.readthedocs.io/en/stable/user_install.html\n",
      "  from .autonotebook import tqdm as notebook_tqdm\n"
     ]
    }
   ],
   "execution_count": 2
  },
  {
   "metadata": {},
   "cell_type": "markdown",
   "source": "# Balance",
   "id": "aaaaf50fb5b6a24b"
  },
  {
   "metadata": {
    "ExecuteTime": {
     "end_time": "2025-06-17T13:27:07.313222Z",
     "start_time": "2025-06-17T13:27:06.792358Z"
    }
   },
   "cell_type": "code",
   "source": [
    "from sklearn.utils.class_weight import compute_class_weight\n",
    "import numpy as np\n",
    "\n",
    "# labels = dataset[\"train\"][\"label\"]\n",
    "# class_weights = compute_class_weight(\"balanced\", classes=np.unique(labels), y=labels)\n",
    "# print(class_weights)"
   ],
   "id": "cbc45fe353ff8bd0",
   "outputs": [],
   "execution_count": 3
  },
  {
   "metadata": {},
   "cell_type": "markdown",
   "source": "# Training",
   "id": "3b82414e325dd8bc"
  },
  {
   "metadata": {
    "ExecuteTime": {
     "end_time": "2025-06-17T13:27:12.312901Z",
     "start_time": "2025-06-17T13:27:07.321969Z"
    }
   },
   "cell_type": "code",
   "source": [
    "from transformers import AutoModelForSequenceClassification\n",
    "\n",
    "# Initialize a BERT model for binary classification\n",
    "model_name = \"bert-large-cased\"\n",
    "model = AutoModelForSequenceClassification.from_pretrained(model_name, num_labels=5)\n",
    "\n",
    "print(model.config)"
   ],
   "id": "76449efa7b4d5601",
   "outputs": [
    {
     "name": "stderr",
     "output_type": "stream",
     "text": [
      "2025-06-17 16:27:09.980147: E external/local_xla/xla/stream_executor/cuda/cuda_fft.cc:467] Unable to register cuFFT factory: Attempting to register factory for plugin cuFFT when one has already been registered\n",
      "WARNING: All log messages before absl::InitializeLog() is called are written to STDERR\n",
      "E0000 00:00:1750166830.035884    2054 cuda_dnn.cc:8579] Unable to register cuDNN factory: Attempting to register factory for plugin cuDNN when one has already been registered\n",
      "E0000 00:00:1750166830.053406    2054 cuda_blas.cc:1407] Unable to register cuBLAS factory: Attempting to register factory for plugin cuBLAS when one has already been registered\n",
      "W0000 00:00:1750166830.168027    2054 computation_placer.cc:177] computation placer already registered. Please check linkage and avoid linking the same target more than once.\n",
      "W0000 00:00:1750166830.168041    2054 computation_placer.cc:177] computation placer already registered. Please check linkage and avoid linking the same target more than once.\n",
      "W0000 00:00:1750166830.168042    2054 computation_placer.cc:177] computation placer already registered. Please check linkage and avoid linking the same target more than once.\n",
      "W0000 00:00:1750166830.168043    2054 computation_placer.cc:177] computation placer already registered. Please check linkage and avoid linking the same target more than once.\n",
      "2025-06-17 16:27:10.180185: I tensorflow/core/platform/cpu_feature_guard.cc:210] This TensorFlow binary is optimized to use available CPU instructions in performance-critical operations.\n",
      "To enable the following instructions: AVX2 FMA, in other operations, rebuild TensorFlow with the appropriate compiler flags.\n",
      "Some weights of BertForSequenceClassification were not initialized from the model checkpoint at bert-large-cased and are newly initialized: ['classifier.bias', 'classifier.weight']\n",
      "You should probably TRAIN this model on a down-stream task to be able to use it for predictions and inference.\n"
     ]
    },
    {
     "name": "stdout",
     "output_type": "stream",
     "text": [
      "BertConfig {\n",
      "  \"architectures\": [\n",
      "    \"BertForMaskedLM\"\n",
      "  ],\n",
      "  \"attention_probs_dropout_prob\": 0.1,\n",
      "  \"classifier_dropout\": null,\n",
      "  \"directionality\": \"bidi\",\n",
      "  \"gradient_checkpointing\": false,\n",
      "  \"hidden_act\": \"gelu\",\n",
      "  \"hidden_dropout_prob\": 0.1,\n",
      "  \"hidden_size\": 1024,\n",
      "  \"id2label\": {\n",
      "    \"0\": \"LABEL_0\",\n",
      "    \"1\": \"LABEL_1\",\n",
      "    \"2\": \"LABEL_2\",\n",
      "    \"3\": \"LABEL_3\",\n",
      "    \"4\": \"LABEL_4\"\n",
      "  },\n",
      "  \"initializer_range\": 0.02,\n",
      "  \"intermediate_size\": 4096,\n",
      "  \"label2id\": {\n",
      "    \"LABEL_0\": 0,\n",
      "    \"LABEL_1\": 1,\n",
      "    \"LABEL_2\": 2,\n",
      "    \"LABEL_3\": 3,\n",
      "    \"LABEL_4\": 4\n",
      "  },\n",
      "  \"layer_norm_eps\": 1e-12,\n",
      "  \"max_position_embeddings\": 512,\n",
      "  \"model_type\": \"bert\",\n",
      "  \"num_attention_heads\": 16,\n",
      "  \"num_hidden_layers\": 24,\n",
      "  \"pad_token_id\": 0,\n",
      "  \"pooler_fc_size\": 768,\n",
      "  \"pooler_num_attention_heads\": 12,\n",
      "  \"pooler_num_fc_layers\": 3,\n",
      "  \"pooler_size_per_head\": 128,\n",
      "  \"pooler_type\": \"first_token_transform\",\n",
      "  \"position_embedding_type\": \"absolute\",\n",
      "  \"torch_dtype\": \"float32\",\n",
      "  \"transformers_version\": \"4.52.4\",\n",
      "  \"type_vocab_size\": 2,\n",
      "  \"use_cache\": true,\n",
      "  \"vocab_size\": 28996\n",
      "}\n",
      "\n"
     ]
    }
   ],
   "execution_count": 4
  },
  {
   "metadata": {
    "ExecuteTime": {
     "end_time": "2025-06-17T13:27:12.324520Z",
     "start_time": "2025-06-17T13:27:12.319915Z"
    }
   },
   "cell_type": "code",
   "source": [
    "# Freeze all layers except the last\n",
    "for name, param in model.bert.named_parameters():\n",
    "    if (name.startswith(\"encoder.layer.23\")\n",
    "            or name.startswith(\"encoder.layer.22\")\n",
    "            or name.startswith(\"encoder.layer.21\")):\n",
    "        param.requires_grad = True\n",
    "    else:\n",
    "        param.requires_grad = False\n",
    "    pass\n",
    "\n",
    "# Keep only the classification head trainable\n",
    "for param in model.classifier.parameters():\n",
    "    param.requires_grad = True\n",
    "\n",
    "print(f\"Trainable parameters: {sum(p.numel() for p in model.parameters() if p.requires_grad)}\")"
   ],
   "id": "1e5d9ee5faa3bd7b",
   "outputs": [
    {
     "name": "stdout",
     "output_type": "stream",
     "text": [
      "Trainable parameters: 37793797\n"
     ]
    }
   ],
   "execution_count": 5
  },
  {
   "metadata": {
    "ExecuteTime": {
     "end_time": "2025-06-17T13:27:12.607099Z",
     "start_time": "2025-06-17T13:27:12.376314Z"
    }
   },
   "cell_type": "code",
   "source": [
    "from transformers import TrainingArguments\n",
    "import accelerate\n",
    "\n",
    "# Define training arguments\n",
    "training_args = TrainingArguments(\n",
    "    output_dir=\"./results\",  # Directory for saving model checkpoints\n",
    "    eval_strategy=\"epoch\",  # Evaluate at the end of each epoch\n",
    "    save_strategy=\"epoch\",\n",
    "    learning_rate=5e-5,  # Start with a small learning rate\n",
    "    per_device_train_batch_size=32,  # Batch size per GPU\n",
    "    per_device_eval_batch_size=32,\n",
    "    # auto_find_batch_size=True,\n",
    "    num_train_epochs=4,  # Number of epochs\n",
    "    weight_decay=0.01,  # Regularization\n",
    "    save_total_limit=3,  # Limit checkpoints to save space\n",
    "    load_best_model_at_end=True,  # Automatically load the best checkpoint\n",
    "    logging_dir=\"./logs\",  # Directory for logs\n",
    "    logging_steps=100,  # Log every 100 steps\n",
    "    fp16=True  # Enable mixed precision for faster training\n",
    ")\n",
    "\n",
    "print(training_args)"
   ],
   "id": "7f85c21bd9739fbc",
   "outputs": [
    {
     "name": "stdout",
     "output_type": "stream",
     "text": [
      "TrainingArguments(\n",
      "_n_gpu=1,\n",
      "accelerator_config={'split_batches': False, 'dispatch_batches': None, 'even_batches': True, 'use_seedable_sampler': True, 'non_blocking': False, 'gradient_accumulation_kwargs': None, 'use_configured_state': False},\n",
      "adafactor=False,\n",
      "adam_beta1=0.9,\n",
      "adam_beta2=0.999,\n",
      "adam_epsilon=1e-08,\n",
      "auto_find_batch_size=False,\n",
      "average_tokens_across_devices=False,\n",
      "batch_eval_metrics=False,\n",
      "bf16=False,\n",
      "bf16_full_eval=False,\n",
      "data_seed=None,\n",
      "dataloader_drop_last=False,\n",
      "dataloader_num_workers=0,\n",
      "dataloader_persistent_workers=False,\n",
      "dataloader_pin_memory=True,\n",
      "dataloader_prefetch_factor=None,\n",
      "ddp_backend=None,\n",
      "ddp_broadcast_buffers=None,\n",
      "ddp_bucket_cap_mb=None,\n",
      "ddp_find_unused_parameters=None,\n",
      "ddp_timeout=1800,\n",
      "debug=[],\n",
      "deepspeed=None,\n",
      "disable_tqdm=False,\n",
      "do_eval=True,\n",
      "do_predict=False,\n",
      "do_train=False,\n",
      "eval_accumulation_steps=None,\n",
      "eval_delay=0,\n",
      "eval_do_concat_batches=True,\n",
      "eval_on_start=False,\n",
      "eval_steps=None,\n",
      "eval_strategy=IntervalStrategy.EPOCH,\n",
      "eval_use_gather_object=False,\n",
      "fp16=True,\n",
      "fp16_backend=auto,\n",
      "fp16_full_eval=False,\n",
      "fp16_opt_level=O1,\n",
      "fsdp=[],\n",
      "fsdp_config={'min_num_params': 0, 'xla': False, 'xla_fsdp_v2': False, 'xla_fsdp_grad_ckpt': False},\n",
      "fsdp_min_num_params=0,\n",
      "fsdp_transformer_layer_cls_to_wrap=None,\n",
      "full_determinism=False,\n",
      "gradient_accumulation_steps=1,\n",
      "gradient_checkpointing=False,\n",
      "gradient_checkpointing_kwargs=None,\n",
      "greater_is_better=False,\n",
      "group_by_length=False,\n",
      "half_precision_backend=auto,\n",
      "hub_always_push=False,\n",
      "hub_model_id=None,\n",
      "hub_private_repo=None,\n",
      "hub_strategy=HubStrategy.EVERY_SAVE,\n",
      "hub_token=<HUB_TOKEN>,\n",
      "ignore_data_skip=False,\n",
      "include_for_metrics=[],\n",
      "include_inputs_for_metrics=False,\n",
      "include_num_input_tokens_seen=False,\n",
      "include_tokens_per_second=False,\n",
      "jit_mode_eval=False,\n",
      "label_names=None,\n",
      "label_smoothing_factor=0.0,\n",
      "learning_rate=5e-05,\n",
      "length_column_name=length,\n",
      "load_best_model_at_end=True,\n",
      "local_rank=0,\n",
      "log_level=passive,\n",
      "log_level_replica=warning,\n",
      "log_on_each_node=True,\n",
      "logging_dir=./logs,\n",
      "logging_first_step=False,\n",
      "logging_nan_inf_filter=True,\n",
      "logging_steps=100,\n",
      "logging_strategy=IntervalStrategy.STEPS,\n",
      "lr_scheduler_kwargs={},\n",
      "lr_scheduler_type=SchedulerType.LINEAR,\n",
      "max_grad_norm=1.0,\n",
      "max_steps=-1,\n",
      "metric_for_best_model=loss,\n",
      "mp_parameters=,\n",
      "neftune_noise_alpha=None,\n",
      "no_cuda=False,\n",
      "num_train_epochs=4,\n",
      "optim=OptimizerNames.ADAMW_TORCH,\n",
      "optim_args=None,\n",
      "optim_target_modules=None,\n",
      "output_dir=./results,\n",
      "overwrite_output_dir=False,\n",
      "past_index=-1,\n",
      "per_device_eval_batch_size=32,\n",
      "per_device_train_batch_size=32,\n",
      "prediction_loss_only=False,\n",
      "push_to_hub=False,\n",
      "push_to_hub_model_id=None,\n",
      "push_to_hub_organization=None,\n",
      "push_to_hub_token=<PUSH_TO_HUB_TOKEN>,\n",
      "ray_scope=last,\n",
      "remove_unused_columns=True,\n",
      "report_to=['tensorboard'],\n",
      "restore_callback_states_from_checkpoint=False,\n",
      "resume_from_checkpoint=None,\n",
      "run_name=./results,\n",
      "save_on_each_node=False,\n",
      "save_only_model=False,\n",
      "save_safetensors=True,\n",
      "save_steps=500,\n",
      "save_strategy=SaveStrategy.EPOCH,\n",
      "save_total_limit=3,\n",
      "seed=42,\n",
      "skip_memory_metrics=True,\n",
      "tf32=None,\n",
      "torch_compile=False,\n",
      "torch_compile_backend=None,\n",
      "torch_compile_mode=None,\n",
      "torch_empty_cache_steps=None,\n",
      "torchdynamo=None,\n",
      "tpu_metrics_debug=False,\n",
      "tpu_num_cores=None,\n",
      "use_cpu=False,\n",
      "use_ipex=False,\n",
      "use_legacy_prediction_loop=False,\n",
      "use_liger_kernel=False,\n",
      "use_mps_device=False,\n",
      "warmup_ratio=0.0,\n",
      "warmup_steps=0,\n",
      "weight_decay=0.01,\n",
      ")\n"
     ]
    }
   ],
   "execution_count": 6
  },
  {
   "metadata": {
    "ExecuteTime": {
     "end_time": "2025-06-17T13:27:13.527481Z",
     "start_time": "2025-06-17T13:27:12.619607Z"
    }
   },
   "cell_type": "code",
   "source": [
    "from transformers import Trainer\n",
    "from evaluate import load\n",
    "\n",
    "# Load a metric (F1-score in this case)\n",
    "metric = load(\"f1\")\n",
    "\n",
    "\n",
    "# Define a custom compute_metrics function\n",
    "def compute_metrics(eval_pred):\n",
    "    logits, labels = eval_pred\n",
    "    predictions = logits.argmax(axis=-1)\n",
    "    return metric.compute(predictions=predictions, references=labels, average='weighted')"
   ],
   "id": "1a431ff9cda4203",
   "outputs": [],
   "execution_count": 7
  },
  {
   "metadata": {
    "ExecuteTime": {
     "end_time": "2025-06-17T13:27:14.059671Z",
     "start_time": "2025-06-17T13:27:13.538651Z"
    }
   },
   "cell_type": "code",
   "source": [
    "from transformers import AutoTokenizer\n",
    "\n",
    "# Initialize the BERT tokenizer\n",
    "tokenizer = AutoTokenizer.from_pretrained(\"bert-large-cased\")"
   ],
   "id": "b696b1f1c8d7d343",
   "outputs": [],
   "execution_count": 8
  },
  {
   "metadata": {
    "ExecuteTime": {
     "end_time": "2025-06-17T13:27:15.202813Z",
     "start_time": "2025-06-17T13:27:14.072345Z"
    }
   },
   "cell_type": "code",
   "source": [
    "from torch.optim import AdamW\n",
    "import transformers\n",
    "\n",
    "no_decay = [\"bias\", \"LayerNorm.weight\"]\n",
    "optimizer_grouped_parameters = [\n",
    "    {\n",
    "        \"params\": [p for n, p in model.named_parameters() if not any(nd in n for nd in no_decay)],\n",
    "        \"weight_decay\": 0.0,\n",
    "    },\n",
    "    {\n",
    "        \"params\": [p for n, p in model.named_parameters() if any(nd in n for nd in no_decay)],\n",
    "        \"weight_decay\": 0.0,\n",
    "    },\n",
    "]\n",
    "\n",
    "data_collator = transformers.DataCollatorWithPadding(tokenizer=tokenizer)\n",
    "scheduler = transformers.get_scheduler(\n",
    "    \"linear\",\n",
    "    optimizer=AdamW(optimizer_grouped_parameters, lr=5e-05, eps=1e-08),\n",
    "    num_warmup_steps=0,\n",
    "    num_training_steps=len(tokenized_dataset_train) * training_args.num_train_epochs\n",
    ")\n",
    "\n",
    "trainer = Trainer(\n",
    "    model=model,  # Pre-trained BERT model\n",
    "    optimizers=(scheduler.optimizer, scheduler),\n",
    "    args=training_args,  # Training arguments\n",
    "    train_dataset=tokenized_dataset_train,\n",
    "    eval_dataset=tokenized_dataset_test,\n",
    "    tokenizer=tokenizer,\n",
    "    data_collator=data_collator,  # Efficient batching\n",
    "    compute_metrics=compute_metrics  # Custom metric\n",
    ")\n",
    "\n",
    "trainer.add_callback(transformers.EarlyStoppingCallback(early_stopping_patience=2))\n"
   ],
   "id": "b06899a0a3425d8c",
   "outputs": [
    {
     "name": "stderr",
     "output_type": "stream",
     "text": [
      "/tmp/ipykernel_2054/1163848434.py:24: FutureWarning: `tokenizer` is deprecated and will be removed in version 5.0.0 for `Trainer.__init__`. Use `processing_class` instead.\n",
      "  trainer = Trainer(\n"
     ]
    }
   ],
   "execution_count": 9
  },
  {
   "metadata": {
    "ExecuteTime": {
     "end_time": "2025-06-17T17:47:15.837034Z",
     "start_time": "2025-06-17T13:27:15.275420Z"
    }
   },
   "cell_type": "code",
   "source": [
    "# Start training\n",
    "trainer.train()"
   ],
   "id": "11698b9af31e9f69",
   "outputs": [
    {
     "data": {
      "text/plain": [
       "<IPython.core.display.HTML object>"
      ],
      "text/html": [
       "\n",
       "    <div>\n",
       "      \n",
       "      <progress value='98792' max='98792' style='width:300px; height:20px; vertical-align: middle;'></progress>\n",
       "      [98792/98792 4:19:59, Epoch 4/4]\n",
       "    </div>\n",
       "    <table border=\"1\" class=\"dataframe\">\n",
       "  <thead>\n",
       " <tr style=\"text-align: left;\">\n",
       "      <th>Epoch</th>\n",
       "      <th>Training Loss</th>\n",
       "      <th>Validation Loss</th>\n",
       "      <th>F1</th>\n",
       "    </tr>\n",
       "  </thead>\n",
       "  <tbody>\n",
       "    <tr>\n",
       "      <td>1</td>\n",
       "      <td>0.889600</td>\n",
       "      <td>0.902566</td>\n",
       "      <td>0.630562</td>\n",
       "    </tr>\n",
       "    <tr>\n",
       "      <td>2</td>\n",
       "      <td>0.848900</td>\n",
       "      <td>0.878802</td>\n",
       "      <td>0.633233</td>\n",
       "    </tr>\n",
       "    <tr>\n",
       "      <td>3</td>\n",
       "      <td>0.808500</td>\n",
       "      <td>0.863885</td>\n",
       "      <td>0.651116</td>\n",
       "    </tr>\n",
       "    <tr>\n",
       "      <td>4</td>\n",
       "      <td>0.787000</td>\n",
       "      <td>0.854214</td>\n",
       "      <td>0.647840</td>\n",
       "    </tr>\n",
       "  </tbody>\n",
       "</table><p>"
      ]
     },
     "metadata": {},
     "output_type": "display_data"
    },
    {
     "data": {
      "text/plain": [
       "TrainOutput(global_step=98792, training_loss=0.856832089100939, metrics={'train_runtime': 15600.3484, 'train_samples_per_second': 202.641, 'train_steps_per_second': 6.333, 'total_flos': 7.36527732980994e+17, 'train_loss': 0.856832089100939, 'epoch': 4.0})"
      ]
     },
     "execution_count": 10,
     "metadata": {},
     "output_type": "execute_result"
    }
   ],
   "execution_count": 10
  },
  {
   "metadata": {
    "ExecuteTime": {
     "end_time": "2025-06-17T17:47:17.729038Z",
     "start_time": "2025-06-17T17:47:15.866535Z"
    }
   },
   "cell_type": "code",
   "source": [
    "trainer.save_model(\"result\")\n",
    "trainer._load_best_model()"
   ],
   "id": "d0bc8946128bcfea",
   "outputs": [],
   "execution_count": 11
  },
  {
   "metadata": {
    "ExecuteTime": {
     "end_time": "2025-06-17T17:47:17.847563Z",
     "start_time": "2025-06-17T17:47:17.745302Z"
    }
   },
   "cell_type": "code",
   "source": [
    "from transformers import AutoModelForSequenceClassification\n",
    "\n",
    "model_name = \"bert-base-uncased\"\n",
    "model = AutoModelForSequenceClassification.from_pretrained(pretrained_model_name_or_path=\"./result\", num_labels=5)\n"
   ],
   "id": "63c1ac43aefb49f2",
   "outputs": [],
   "execution_count": 12
  },
  {
   "metadata": {
    "ExecuteTime": {
     "end_time": "2025-06-17T17:52:13.768843Z",
     "start_time": "2025-06-17T17:47:17.863488Z"
    }
   },
   "cell_type": "code",
   "source": [
    "from sklearn.metrics import classification_report, confusion_matrix, ConfusionMatrixDisplay\n",
    "\n",
    "# Generate predictions\n",
    "predictions = trainer.predict(tokenized_dataset_test)\n",
    "predicted_labels = predictions.predictions.argmax(axis=-1)\n"
   ],
   "id": "f3217f8b66260bf",
   "outputs": [
    {
     "data": {
      "text/plain": [
       "<IPython.core.display.HTML object>"
      ],
      "text/html": []
     },
     "metadata": {},
     "output_type": "display_data"
    }
   ],
   "execution_count": 13
  },
  {
   "metadata": {
    "ExecuteTime": {
     "end_time": "2025-06-17T17:52:14.689349Z",
     "start_time": "2025-06-17T17:52:13.786968Z"
    }
   },
   "cell_type": "code",
   "source": [
    "# Classification report\n",
    "print(classification_report(tokenized_dataset_test[\"label\"], predicted_labels))\n",
    "\n",
    "# Confusion matrix\n",
    "cm = confusion_matrix(tokenized_dataset_test[\"label\"], predicted_labels)\n",
    "disp = ConfusionMatrixDisplay(confusion_matrix=cm)\n",
    "disp.plot()"
   ],
   "id": "95195c9ab5417bfc",
   "outputs": [
    {
     "name": "stdout",
     "output_type": "stream",
     "text": [
      "              precision    recall  f1-score   support\n",
      "\n",
      "           0       0.65      0.70      0.68     17609\n",
      "           1       0.61      0.60      0.60     17595\n",
      "           2       0.68      0.88      0.77     17631\n",
      "           3       0.50      0.30      0.38     17698\n",
      "           4       0.80      0.83      0.81     17647\n",
      "\n",
      "    accuracy                           0.66     88180\n",
      "   macro avg       0.65      0.66      0.65     88180\n",
      "weighted avg       0.65      0.66      0.65     88180\n",
      "\n"
     ]
    },
    {
     "data": {
      "text/plain": [
       "<sklearn.metrics._plot.confusion_matrix.ConfusionMatrixDisplay at 0x7fe683351ad0>"
      ]
     },
     "execution_count": 14,
     "metadata": {},
     "output_type": "execute_result"
    },
    {
     "data": {
      "text/plain": [
       "<Figure size 640x480 with 2 Axes>"
      ],
      "image/png": "[encoded data removed]"
     },
     "metadata": {},
     "output_type": "display_data"
    }
   ],
   "execution_count": 14
  },
  {
   "metadata": {
    "ExecuteTime": {
     "end_time": "2025-06-17T17:52:14.714220Z",
     "start_time": "2025-06-17T17:52:14.712660Z"
    }
   },
   "cell_type": "code",
   "source": [
    "import os\n",
    "#TODO:\n",
    "# os.system('systemctl poweroff')"
   ],
   "id": "a9647d567098d304",
   "outputs": [],
   "execution_count": 15
  },
  {
   "metadata": {
    "ExecuteTime": {
     "end_time": "2025-06-17T17:52:14.773995Z",
     "start_time": "2025-06-17T17:52:14.772194Z"
    }
   },
   "cell_type": "code",
   "source": [
    "# Inspect misclassified samples\n",
    "# for idx, (pred, label) in enumerate(zip(predicted_labels, tokenized_dataset_test[\"label\"])):\n",
    "#     if pred != label:\n",
    "#         print(\"=====================\")\n",
    "#         print(f\"Index: {idx}, Predicted: {pred}, Actual: {label}\")\n",
    "#         print(tokenized_dataset_test[idx][\"lyrics\"])"
   ],
   "id": "f00d5d796efda681",
   "outputs": [],
   "execution_count": 16
  }
 ],
 "metadata": {
  "kernelspec": {
   "display_name": "Python 3",
   "language": "python",
   "name": "python3"
  },
  "language_info": {
   "codemirror_mode": {
    "name": "ipython",
    "version": 2
   },
   "file_extension": ".py",
   "mimetype": "text/x-python",
   "name": "python",
   "nbconvert_exporter": "python",
   "pygments_lexer": "ipython2",
   "version": "2.7.6"
  }
 },
 "nbformat": 4,
 "nbformat_minor": 5
}
