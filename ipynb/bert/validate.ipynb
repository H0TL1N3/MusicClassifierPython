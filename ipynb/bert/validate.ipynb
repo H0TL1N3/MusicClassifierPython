{
 "cells": [
  {
   "metadata": {},
   "cell_type": "code",
   "outputs": [],
   "execution_count": null,
   "source": [
    "import matplotlib.pyplot as plt\n",
    "from torch.optim.adamw import adamw\n",
    "!pip install -q -U \"tensorflow-text\"\n",
    "!pip install -q tf-models-official\n",
    "!pip install transformers datasets torch scikit-learn\n",
    "!pip install -U accelerate\n",
    "!pip install -U transformers\n",
    "!pip install -U evaluate\n",
    "!pip install -U datasets huggingface_hub fsspec\n",
    "!pip install -U scikit-learn"
   ],
   "id": "f47051a0a741543a"
  },
  {
   "metadata": {
    "ExecuteTime": {
     "end_time": "2025-06-15T21:09:20.952672Z",
     "start_time": "2025-06-15T21:09:20.823746Z"
    }
   },
   "cell_type": "code",
   "source": [
    "import datasets\n",
    "\n",
    "tokenized_dataset_train = datasets.load_from_disk(\"tokenized_dataset_train\").train_test_split(test_size=0.4)[\"test\"]\n",
    "tokenized_dataset_test = datasets.load_from_disk(\"tokenized_dataset_test\").train_test_split(test_size=0.4)[\"test\"]\n",
    "\n",
    "# tokenized_dataset_train = tokenized_dataset_train.remove_columns([\"tag\", \"lyrics\"])\n",
    "# tokenized_dataset_test = tokenized_dataset_test.remove_columns([\"tag\", \"lyrics\"])\n",
    "tokenized_dataset_train = tokenized_dataset_train.remove_columns([\"tag\"])\n",
    "tokenized_dataset_test = tokenized_dataset_test.remove_columns([\"tag\"])"
   ],
   "id": "b371d05c70385825",
   "outputs": [],
   "execution_count": 9
  },
  {
   "metadata": {
    "ExecuteTime": {
     "end_time": "2025-06-15T21:09:21.016858Z",
     "start_time": "2025-06-15T21:09:20.969760Z"
    }
   },
   "cell_type": "code",
   "source": [
    "from transformers import AutoModelForSequenceClassification\n",
    "\n",
    "model_name = \"bert-base-uncased\"\n",
    "model = AutoModelForSequenceClassification.from_pretrained(pretrained_model_name_or_path=\"./result\",num_labels=5)\n"
   ],
   "id": "60af19ac6e150341",
   "outputs": [],
   "execution_count": 10
  },
  {
   "metadata": {
    "ExecuteTime": {
     "end_time": "2025-06-15T21:09:21.049890Z",
     "start_time": "2025-06-15T21:09:21.046544Z"
    }
   },
   "cell_type": "code",
   "source": [
    "# Freeze all layers except the classifier\n",
    "for param in model.bert.parameters():\n",
    "    param.requires_grad = False\n",
    "\n",
    "# Keep only the classification head trainable\n",
    "for param in model.classifier.parameters():\n",
    "    param.requires_grad = True\n",
    "\n",
    "print(f\"Trainable parameters: {sum(p.numel() for p in model.parameters() if p.requires_grad)}\")"
   ],
   "id": "c3aac1187a155248",
   "outputs": [
    {
     "name": "stdout",
     "output_type": "stream",
     "text": [
      "Trainable parameters: 3845\n"
     ]
    }
   ],
   "execution_count": 11
  },
  {
   "metadata": {
    "ExecuteTime": {
     "end_time": "2025-06-15T21:09:21.122724Z",
     "start_time": "2025-06-15T21:09:21.105002Z"
    }
   },
   "cell_type": "code",
   "source": [
    "from transformers import TrainingArguments\n",
    "import accelerate\n",
    "\n",
    "# Define training arguments\n",
    "training_args = TrainingArguments(\n",
    "    output_dir=\"./results\",  # Directory for saving model checkpoints\n",
    "    eval_strategy=\"epoch\",  # Evaluate at the end of each epoch\n",
    "    save_strategy=\"epoch\",\n",
    "    learning_rate=5e-5,  # Start with a small learning rate\n",
    "    per_device_train_batch_size=1024,  # Batch size per GPU\n",
    "    per_device_eval_batch_size=1024,\n",
    "    # auto_find_batch_size=True,\n",
    "    num_train_epochs=10,  # Number of epochs\n",
    "    weight_decay=0.01,  # Regularization\n",
    "    save_total_limit=2,  # Limit checkpoints to save space\n",
    "    load_best_model_at_end=True,  # Automatically load the best checkpoint\n",
    "    logging_dir=\"./logs\",  # Directory for logs\n",
    "    logging_steps=100,  # Log every 100 steps\n",
    "    fp16=True  # Enable mixed precision for faster training\n",
    ")\n",
    "\n",
    "print(training_args)"
   ],
   "id": "48b0928a998352cf",
   "outputs": [
    {
     "name": "stdout",
     "output_type": "stream",
     "text": [
      "TrainingArguments(\n",
      "_n_gpu=1,\n",
      "accelerator_config={'split_batches': False, 'dispatch_batches': None, 'even_batches': True, 'use_seedable_sampler': True, 'non_blocking': False, 'gradient_accumulation_kwargs': None, 'use_configured_state': False},\n",
      "adafactor=False,\n",
      "adam_beta1=0.9,\n",
      "adam_beta2=0.999,\n",
      "adam_epsilon=1e-08,\n",
      "auto_find_batch_size=False,\n",
      "average_tokens_across_devices=False,\n",
      "batch_eval_metrics=False,\n",
      "bf16=False,\n",
      "bf16_full_eval=False,\n",
      "data_seed=None,\n",
      "dataloader_drop_last=False,\n",
      "dataloader_num_workers=0,\n",
      "dataloader_persistent_workers=False,\n",
      "dataloader_pin_memory=True,\n",
      "dataloader_prefetch_factor=None,\n",
      "ddp_backend=None,\n",
      "ddp_broadcast_buffers=None,\n",
      "ddp_bucket_cap_mb=None,\n",
      "ddp_find_unused_parameters=None,\n",
      "ddp_timeout=1800,\n",
      "debug=[],\n",
      "deepspeed=None,\n",
      "disable_tqdm=False,\n",
      "do_eval=True,\n",
      "do_predict=False,\n",
      "do_train=False,\n",
      "eval_accumulation_steps=None,\n",
      "eval_delay=0,\n",
      "eval_do_concat_batches=True,\n",
      "eval_on_start=False,\n",
      "eval_steps=None,\n",
      "eval_strategy=IntervalStrategy.EPOCH,\n",
      "eval_use_gather_object=False,\n",
      "fp16=True,\n",
      "fp16_backend=auto,\n",
      "fp16_full_eval=False,\n",
      "fp16_opt_level=O1,\n",
      "fsdp=[],\n",
      "fsdp_config={'min_num_params': 0, 'xla': False, 'xla_fsdp_v2': False, 'xla_fsdp_grad_ckpt': False},\n",
      "fsdp_min_num_params=0,\n",
      "fsdp_transformer_layer_cls_to_wrap=None,\n",
      "full_determinism=False,\n",
      "gradient_accumulation_steps=1,\n",
      "gradient_checkpointing=False,\n",
      "gradient_checkpointing_kwargs=None,\n",
      "greater_is_better=False,\n",
      "group_by_length=False,\n",
      "half_precision_backend=auto,\n",
      "hub_always_push=False,\n",
      "hub_model_id=None,\n",
      "hub_private_repo=None,\n",
      "hub_strategy=HubStrategy.EVERY_SAVE,\n",
      "hub_token=<HUB_TOKEN>,\n",
      "ignore_data_skip=False,\n",
      "include_for_metrics=[],\n",
      "include_inputs_for_metrics=False,\n",
      "include_num_input_tokens_seen=False,\n",
      "include_tokens_per_second=False,\n",
      "jit_mode_eval=False,\n",
      "label_names=None,\n",
      "label_smoothing_factor=0.0,\n",
      "learning_rate=5e-05,\n",
      "length_column_name=length,\n",
      "load_best_model_at_end=True,\n",
      "local_rank=0,\n",
      "log_level=passive,\n",
      "log_level_replica=warning,\n",
      "log_on_each_node=True,\n",
      "logging_dir=./logs,\n",
      "logging_first_step=False,\n",
      "logging_nan_inf_filter=True,\n",
      "logging_steps=100,\n",
      "logging_strategy=IntervalStrategy.STEPS,\n",
      "lr_scheduler_kwargs={},\n",
      "lr_scheduler_type=SchedulerType.LINEAR,\n",
      "max_grad_norm=1.0,\n",
      "max_steps=-1,\n",
      "metric_for_best_model=loss,\n",
      "mp_parameters=,\n",
      "neftune_noise_alpha=None,\n",
      "no_cuda=False,\n",
      "num_train_epochs=10,\n",
      "optim=OptimizerNames.ADAMW_TORCH,\n",
      "optim_args=None,\n",
      "optim_target_modules=None,\n",
      "output_dir=./results,\n",
      "overwrite_output_dir=False,\n",
      "past_index=-1,\n",
      "per_device_eval_batch_size=1024,\n",
      "per_device_train_batch_size=1024,\n",
      "prediction_loss_only=False,\n",
      "push_to_hub=False,\n",
      "push_to_hub_model_id=None,\n",
      "push_to_hub_organization=None,\n",
      "push_to_hub_token=<PUSH_TO_HUB_TOKEN>,\n",
      "ray_scope=last,\n",
      "remove_unused_columns=True,\n",
      "report_to=['tensorboard'],\n",
      "restore_callback_states_from_checkpoint=False,\n",
      "resume_from_checkpoint=None,\n",
      "run_name=./results,\n",
      "save_on_each_node=False,\n",
      "save_only_model=False,\n",
      "save_safetensors=True,\n",
      "save_steps=500,\n",
      "save_strategy=SaveStrategy.EPOCH,\n",
      "save_total_limit=2,\n",
      "seed=42,\n",
      "skip_memory_metrics=True,\n",
      "tf32=None,\n",
      "torch_compile=False,\n",
      "torch_compile_backend=None,\n",
      "torch_compile_mode=None,\n",
      "torch_empty_cache_steps=None,\n",
      "torchdynamo=None,\n",
      "tpu_metrics_debug=False,\n",
      "tpu_num_cores=None,\n",
      "use_cpu=False,\n",
      "use_ipex=False,\n",
      "use_legacy_prediction_loop=False,\n",
      "use_liger_kernel=False,\n",
      "use_mps_device=False,\n",
      "warmup_ratio=0.0,\n",
      "warmup_steps=0,\n",
      "weight_decay=0.01,\n",
      ")\n"
     ]
    }
   ],
   "execution_count": 12
  },
  {
   "metadata": {
    "ExecuteTime": {
     "end_time": "2025-06-15T21:09:21.821367Z",
     "start_time": "2025-06-15T21:09:21.164401Z"
    }
   },
   "cell_type": "code",
   "source": [
    "from transformers import Trainer\n",
    "from evaluate import load\n",
    "\n",
    "# Load a metric (F1-score in this case)\n",
    "metric = load(\"f1\")\n",
    "\n",
    "\n",
    "# Define a custom compute_metrics function\n",
    "def compute_metrics(eval_pred):\n",
    "    logits, labels = eval_pred\n",
    "    predictions = logits.argmax(axis=-1)\n",
    "    return metric.compute(predictions=predictions, references=labels, average='weighted')"
   ],
   "id": "738920be53759125",
   "outputs": [],
   "execution_count": 13
  },
  {
   "metadata": {
    "ExecuteTime": {
     "end_time": "2025-06-15T21:09:22.274083Z",
     "start_time": "2025-06-15T21:09:21.837120Z"
    }
   },
   "cell_type": "code",
   "source": [
    "from transformers import AutoTokenizer\n",
    "\n",
    "# Initialize the BERT tokenizer\n",
    "tokenizer = AutoTokenizer.from_pretrained(\"bert-base-uncased\")"
   ],
   "id": "89242381c9b9ae17",
   "outputs": [],
   "execution_count": 14
  },
  {
   "metadata": {
    "ExecuteTime": {
     "end_time": "2025-06-15T21:09:22.403260Z",
     "start_time": "2025-06-15T21:09:22.295139Z"
    }
   },
   "cell_type": "code",
   "source": [
    "from torch.optim import AdamW\n",
    "import transformers\n",
    "\n",
    "no_decay = [\"bias\", \"LayerNorm.weight\"]\n",
    "optimizer_grouped_parameters = [\n",
    "    {\n",
    "        \"params\": [p for n, p in model.named_parameters() if not any(nd in n for nd in no_decay)],\n",
    "        \"weight_decay\": 0.0,\n",
    "    },\n",
    "    {\n",
    "        \"params\": [p for n, p in model.named_parameters() if any(nd in n for nd in no_decay)],\n",
    "        \"weight_decay\": 0.0,\n",
    "    },\n",
    "]\n",
    "\n",
    "data_collator = transformers.DataCollatorWithPadding(tokenizer=tokenizer)\n",
    "scheduler = transformers.get_scheduler(\n",
    "    \"linear\",\n",
    "    optimizer=AdamW(optimizer_grouped_parameters, lr=5e-05, eps=1e-08),\n",
    "    num_warmup_steps=0,\n",
    "    num_training_steps=len(tokenized_dataset_train) * training_args.num_train_epochs\n",
    ")\n",
    "\n",
    "trainer = Trainer(\n",
    "    model=model,  # Pre-trained BERT model\n",
    "    optimizers = (scheduler.optimizer,scheduler),\n",
    "    args=training_args,  # Training arguments\n",
    "    train_dataset=tokenized_dataset_train,\n",
    "    eval_dataset=tokenized_dataset_test,\n",
    "    tokenizer=tokenizer,\n",
    "    data_collator=data_collator,  # Efficient batching\n",
    "    compute_metrics=compute_metrics  # Custom metric\n",
    ")\n",
    "\n",
    "trainer.add_callback(transformers.EarlyStoppingCallback(early_stopping_patience=2))\n"
   ],
   "id": "2fd5350bb2c67a0d",
   "outputs": [
    {
     "name": "stderr",
     "output_type": "stream",
     "text": [
      "/tmp/ipykernel_7726/418963040.py:24: FutureWarning: `tokenizer` is deprecated and will be removed in version 5.0.0 for `Trainer.__init__`. Use `processing_class` instead.\n",
      "  trainer = Trainer(\n"
     ]
    }
   ],
   "execution_count": 15
  },
  {
   "metadata": {
    "ExecuteTime": {
     "end_time": "2025-06-15T21:13:59.227588Z",
     "start_time": "2025-06-15T21:09:22.488955Z"
    }
   },
   "cell_type": "code",
   "source": [
    "from sklearn.metrics import classification_report, confusion_matrix, ConfusionMatrixDisplay\n",
    "\n",
    "# Generate predictions\n",
    "predictions = trainer.predict(tokenized_dataset_test)\n",
    "predicted_labels = predictions.predictions.argmax(axis=-1)\n"
   ],
   "id": "52d0564db2e1b9ff",
   "outputs": [
    {
     "data": {
      "text/plain": [
       "<IPython.core.display.HTML object>"
      ],
      "text/html": []
     },
     "metadata": {},
     "output_type": "display_data"
    }
   ],
   "execution_count": 16
  },
  {
   "metadata": {
    "ExecuteTime": {
     "end_time": "2025-06-15T21:14:01.362485Z",
     "start_time": "2025-06-15T21:13:59.244523Z"
    }
   },
   "cell_type": "code",
   "source": [
    "# Classification report\n",
    "print(classification_report(tokenized_dataset_test[\"label\"], predicted_labels))\n",
    "\n",
    "# Confusion matrix\n",
    "cm = confusion_matrix(tokenized_dataset_test[\"label\"], predicted_labels)\n",
    "disp = ConfusionMatrixDisplay(confusion_matrix=cm)\n",
    "disp.plot()"
   ],
   "id": "9a860b5098136b97",
   "outputs": [
    {
     "name": "stdout",
     "output_type": "stream",
     "text": [
      "              precision    recall  f1-score   support\n",
      "\n",
      "           0       0.08      0.75      0.14     13510\n",
      "           1       0.39      0.36      0.37     56412\n",
      "           2       0.12      0.34      0.17      8679\n",
      "           3       0.60      0.14      0.23    113431\n",
      "           4       0.84      0.40      0.54     79251\n",
      "\n",
      "    accuracy                           0.30    271283\n",
      "   macro avg       0.40      0.40      0.29    271283\n",
      "weighted avg       0.58      0.30      0.34    271283\n",
      "\n"
     ]
    },
    {
     "data": {
      "text/plain": [
       "<sklearn.metrics._plot.confusion_matrix.ConfusionMatrixDisplay at 0x7f45dcb2c050>"
      ]
     },
     "execution_count": 17,
     "metadata": {},
     "output_type": "execute_result"
    },
    {
     "data": {
      "text/plain": [
       "<Figure size 640x480 with 2 Axes>"
      ],
      "image/png": "[encoded data removed]"
     },
     "metadata": {},
     "output_type": "display_data"
    }
   ],
   "execution_count": 17
  }
 ],
 "metadata": {
  "kernelspec": {
   "display_name": "Python 3",
   "language": "python",
   "name": "python3"
  },
  "language_info": {
   "codemirror_mode": {
    "name": "ipython",
    "version": 2
   },
   "file_extension": ".py",
   "mimetype": "text/x-python",
   "name": "python",
   "nbconvert_exporter": "python",
   "pygments_lexer": "ipython2",
   "version": "2.7.6"
  }
 },
 "nbformat": 4,
 "nbformat_minor": 5
}
